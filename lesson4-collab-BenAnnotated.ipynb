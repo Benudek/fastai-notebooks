{
 "cells": [
  {
   "cell_type": "code",
   "execution_count": 2,
   "metadata": {},
   "outputs": [],
   "source": [
    "from fastai import *          # Quick access to most common functionality\n",
    "from fastai.collab import *   # Quick access to collab filtering functionality"
   ]
  },
  {
   "cell_type": "markdown",
   "metadata": {},
   "source": [
    "## Collaborative filtering example"
   ]
  },
  {
   "cell_type": "markdown",
   "metadata": {},
   "source": [
    "Intro:\n",
    "- deep dive NLP transfer\n",
    "- tabular & collaborative\n",
    "Reverse Order:\n",
    "- understand applications in detail, deep dive\n",
    "- "
   ]
  },
  {
   "cell_type": "markdown",
   "metadata": {},
   "source": [
    "We have information like: \n",
    "- who bought what, \n",
    "- so 2 columns e.g. User ID bought Movie ID 123\n",
    "- Amazon has that\n",
    "- then add info like: comment, bought when\n",
    "- often this is stored as sparse matrix (see linear algebra class)\n",
    "- fast.ai tabular can work with panda chunk or place data in sparse formats\n",
    "- find datasets: https://grouplens.org/"
   ]
  },
  {
   "cell_type": "markdown",
   "metadata": {},
   "source": [
    "`collab` models use data in a `DataFrame` of user, items, and ratings."
   ]
  },
  {
   "cell_type": "code",
   "execution_count": 3,
   "metadata": {},
   "outputs": [
    {
     "data": {
      "text/plain": [
       "PosixPath('/home/jupyter/.fastai/data/movie_lens_sample')"
      ]
     },
     "execution_count": 3,
     "metadata": {},
     "output_type": "execute_result"
    }
   ],
   "source": [
    "path = untar_data(URLs.ML_SAMPLE)\n",
    "path"
   ]
  },
  {
   "cell_type": "code",
   "execution_count": 4,
   "metadata": {},
   "outputs": [
    {
     "data": {
      "text/html": [
       "<div>\n",
       "<style scoped>\n",
       "    .dataframe tbody tr th:only-of-type {\n",
       "        vertical-align: middle;\n",
       "    }\n",
       "\n",
       "    .dataframe tbody tr th {\n",
       "        vertical-align: top;\n",
       "    }\n",
       "\n",
       "    .dataframe thead th {\n",
       "        text-align: right;\n",
       "    }\n",
       "</style>\n",
       "<table border=\"1\" class=\"dataframe\">\n",
       "  <thead>\n",
       "    <tr style=\"text-align: right;\">\n",
       "      <th></th>\n",
       "      <th>userId</th>\n",
       "      <th>movieId</th>\n",
       "      <th>rating</th>\n",
       "      <th>timestamp</th>\n",
       "    </tr>\n",
       "  </thead>\n",
       "  <tbody>\n",
       "    <tr>\n",
       "      <th>0</th>\n",
       "      <td>73</td>\n",
       "      <td>1097</td>\n",
       "      <td>4.0</td>\n",
       "      <td>1255504951</td>\n",
       "    </tr>\n",
       "    <tr>\n",
       "      <th>1</th>\n",
       "      <td>561</td>\n",
       "      <td>924</td>\n",
       "      <td>3.5</td>\n",
       "      <td>1172695223</td>\n",
       "    </tr>\n",
       "    <tr>\n",
       "      <th>2</th>\n",
       "      <td>157</td>\n",
       "      <td>260</td>\n",
       "      <td>3.5</td>\n",
       "      <td>1291598691</td>\n",
       "    </tr>\n",
       "    <tr>\n",
       "      <th>3</th>\n",
       "      <td>358</td>\n",
       "      <td>1210</td>\n",
       "      <td>5.0</td>\n",
       "      <td>957481884</td>\n",
       "    </tr>\n",
       "    <tr>\n",
       "      <th>4</th>\n",
       "      <td>130</td>\n",
       "      <td>316</td>\n",
       "      <td>2.0</td>\n",
       "      <td>1138999234</td>\n",
       "    </tr>\n",
       "  </tbody>\n",
       "</table>\n",
       "</div>"
      ],
      "text/plain": [
       "  userId movieId  rating   timestamp\n",
       "0     73    1097     4.0  1255504951\n",
       "1    561     924     3.5  1172695223\n",
       "2    157     260     3.5  1291598691\n",
       "3    358    1210     5.0   957481884\n",
       "4    130     316     2.0  1138999234"
      ]
     },
     "execution_count": 4,
     "metadata": {},
     "output_type": "execute_result"
    }
   ],
   "source": [
    "ratings = pd.read_csv(path/'ratings.csv')\n",
    "series2cat(ratings, 'userId', 'movieId')\n",
    "ratings.head() ## first few rows"
   ]
  },
  {
   "cell_type": "markdown",
   "metadata": {},
   "source": [
    "That's all we need to create and train a model:"
   ]
  },
  {
   "cell_type": "code",
   "execution_count": 5,
   "metadata": {},
   "outputs": [
    {
     "name": "stdout",
     "output_type": "stream",
     "text": [
      "Total time: 00:02\n",
      "epoch  train_loss  valid_loss\n",
      "1      2.274363    1.623826    (00:00)\n",
      "2      1.009131    0.683459    (00:00)\n",
      "3      0.693970    0.665890    (00:00)\n",
      "4      0.600544    0.662557    (00:00)\n",
      "\n"
     ]
    }
   ],
   "source": [
    "learn = get_collab_learner(ratings, n_factors=50, min_score=0., max_score=5.)\n",
    "learn.fit_one_cycle(4, 5e-3)"
   ]
  },
  {
   "cell_type": "markdown",
   "metadata": {},
   "source": [
    "- Now you can pick a movie and user id and guess, who likes what\n",
    "- In practice however, you have a 'cold start problem'. When movie is new or user is new you want to know, but you have no idea\n",
    "- Netflix UX: just asks you in the beginning what you like or not --> not always \n",
    "- Solve it: You need a meta driven model to help the 1st one. e.g. age, location and sex about people to try predicting\n",
    "\n",
    "Q&A:\n",
    "\n",
    "- NLP models can work with emojis. Typically, there are not many compared to words. So model learns emojis\n",
    "- we generally do not use RNNs for time based data, rather we add extra columns (...)\n",
    "- RNNs can be used for time series\n",
    "\n",
    "HALF OF THE CLASS:\n",
    "- we saw key applications, now we dig into the details behind\n"
   ]
  },
  {
   "cell_type": "markdown",
   "metadata": {},
   "source": [
    "# Some Concepts for follow up\n",
    "\n"
   ]
  }
 ],
 "metadata": {
  "kernelspec": {
   "display_name": "Python 3",
   "language": "python",
   "name": "python3"
  },
  "language_info": {
   "codemirror_mode": {
    "name": "ipython",
    "version": 3
   },
   "file_extension": ".py",
   "mimetype": "text/x-python",
   "name": "python",
   "nbconvert_exporter": "python",
   "pygments_lexer": "ipython3",
   "version": "3.6.5"
  }
 },
 "nbformat": 4,
 "nbformat_minor": 2
}
